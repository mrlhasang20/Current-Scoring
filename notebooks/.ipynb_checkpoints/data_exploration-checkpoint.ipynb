{
 "cells": [
  {
   "cell_type": "code",
   "execution_count": null,
   "metadata": {},
   "outputs": [],
   "source": [
    "import pandas as pd\n",
    "import matplotlib.pyplot as plt\n",
    "import seaborn as sns\n",
    "\n",
    "# Load data\n",
    "data = pd.read_csv('data/dummy_company_data.csv')\n",
    "\n",
    "# Basic statistics\n",
    "print(data.describe())\n",
    "\n",
    "# Sector distribution\n",
    "plt.figure(figsize=(10, 6))\n",
    "sns.countplot(y='Sector', data=data)\n",
    "plt.title('Distribution of Companies by Sector')\n",
    "plt.savefig('sector_distribution.png')\n",
    "\n",
    "# Correlation heatmap\n",
    "plt.figure(figsize=(12, 8))\n",
    "sns.heatmap(data.corr(numeric_only=True), annot=True, cmap='coolwarm')\n",
    "plt.title('Correlation of Financial Metrics')\n",
    "plt.savefig('correlation_heatmap.png')\n",
    "\n",
    "# Distribution of EPS\n",
    "plt.figure(figsize=(8, 6))\n",
    "sns.histplot(data['EPS'], bins=20)\n",
    "plt.title('EPS Distribution')\n",
    "plt.savefig('eps_distribution.png')"
   ]
  }
 ],
 "metadata": {
  "kernelspec": {
   "display_name": "score",
   "language": "python",
   "name": "python3"
  },
  "language_info": {
   "codemirror_mode": {
    "name": "ipython",
    "version": 3
   },
   "file_extension": ".py",
   "mimetype": "text/x-python",
   "name": "python",
   "nbconvert_exporter": "python",
   "pygments_lexer": "ipython3",
   "version": "3.12.10"
  }
 },
 "nbformat": 4,
 "nbformat_minor": 4
}
