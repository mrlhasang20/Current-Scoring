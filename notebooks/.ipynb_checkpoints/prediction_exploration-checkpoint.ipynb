{
 "cells": [
  {
   "cell_type": "code",
   "execution_count": null,
   "metadata": {},
   "outputs": [],
   "source": [
    "import pandas as pd\n",
    "import matplotlib.pyplot as plt\n",
    "import seaborn as sns\n",
    "\n",
    "# Load data\n",
    "data = pd.read_csv('data/time_series_data.csv')\n",
    "data['Date'] = pd.to_datetime(data['Date'])\n",
    "\n",
    "# Plot EPS trends for a few companies\n",
    "plt.figure(figsize=(12, 6))\n",
    "for company in data['Company_Name'].unique()[:3]:\n",
    "    company_data = data[data['Company_Name'] == company]\n",
    "    plt.plot(company_data['Date'], company_data['EPS'], label=company)\n",
    "plt.title('EPS Trends Over Time')\n",
    "plt.xlabel('Date')\n",
    "plt.ylabel('EPS')\n",
    "plt.legend()\n",
    "plt.savefig('eps_trends.png')\n",
    "\n",
    "# Distribution of EPS\n",
    "plt.figure(figsize=(8, 6))\n",
    "sns.histplot(data['EPS'], bins=20)\n",
    "plt.title('EPS Distribution')\n",
    "plt.savefig('eps_distribution.png')\n",
    "\n",
    "# Correlation between metrics\n",
    "plt.figure(figsize=(10, 8))\n",
    "sns.heatmap(data[['EPS', 'P_E', 'Dividend_Yield']].corr(), annot=True, cmap='coolwarm')\n",
    "plt.title('Correlation of Metrics')\n",
    "plt.savefig('correlation_metrics.png')"
   ]
  }
 ],
 "metadata": {
  "kernelspec": {
   "display_name": "Python 3",
   "language": "python",
   "name": "python3"
  },
  "language_info": {
   "codemirror_mode": {
    "name": "ipython",
    "version": 3
   },
   "file_extension": ".py",
   "mimetype": "text/x-python",
   "name": "python",
   "nbconvert_exporter": "python",
   "pygments_lexer": "ipython3",
   "version": "3.8.10"
  }
 },
 "nbformat": 4,
 "nbformat_minor": 4
}